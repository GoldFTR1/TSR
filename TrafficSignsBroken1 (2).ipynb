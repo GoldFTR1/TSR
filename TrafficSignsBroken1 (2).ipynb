{
 "cells": [
  {
   "cell_type": "code",
   "execution_count": 1,
   "id": "df435156-e7a1-4833-ac63-24ab08a6faa9",
   "metadata": {},
   "outputs": [],
   "source": [
    "import numpy as np\n",
    "import pandas as pd\n",
    "import matplotlib.pyplot as plt\n",
    "import cv2\n",
    "import tensorflow as tf\n",
    "from PIL import Image\n",
    "import os\n",
    "os.chdir('C:\\\\Users\\\\Lenovo\\\\Downloads\\\\archive')\n",
    "from sklearn.model_selection import train_test_split\n",
    "from keras.utils import to_categorical\n",
    "from keras.models import Sequential, load_model\n",
    "from keras.layers import Conv2D, MaxPool2D, Dense, Flatten, Dropout, Input"
   ]
  },
  {
   "cell_type": "code",
   "execution_count": 2,
   "id": "2e447cd2-1fa9-46e6-9d9c-885f9d05eb2f",
   "metadata": {},
   "outputs": [],
   "source": [
    "data = []\n",
    "labels = []\n",
    "classes = 43\n",
    "current_path = os.getcwd()"
   ]
  },
  {
   "cell_type": "code",
   "execution_count": 3,
   "id": "e25b55ef-8f24-456f-85af-31dae795d7c6",
   "metadata": {},
   "outputs": [],
   "source": [
    " for i in range(classes):\n",
    "    path = os.path.join(current_path,'train', str(i))\n",
    "    images= os.listdir(path)\n",
    "    for a in images:\n",
    "         try:\n",
    "             image= Image.open(path+'\\\\'+ a)\n",
    "             image = image.resize((30,30))\n",
    "             image = np.array(image)\n",
    "             data.append(image)\n",
    "             labels.append(i)\n",
    "         except Expcetion as e:\n",
    "             print(e)\n",
    "     "
   ]
  },
  {
   "cell_type": "code",
   "execution_count": 4,
   "id": "52b4bd99-34b2-4159-a1a5-51e0d47de02a",
   "metadata": {},
   "outputs": [],
   "source": [
    "data = np.array(data)\n",
    "labels = np.array(labels)"
   ]
  },
  {
   "cell_type": "code",
   "execution_count": 5,
   "id": "ad0109db-4ed1-4ff8-9cd7-f0014d396190",
   "metadata": {},
   "outputs": [],
   "source": [
    "np.save('./training/data',data)\n",
    "np.save('./training/labels', labels)"
   ]
  },
  {
   "cell_type": "code",
   "execution_count": 6,
   "id": "f727c52d-8e2a-4e2e-bc9a-9e36743fe42f",
   "metadata": {},
   "outputs": [],
   "source": [
    "data =np.load('./training/data.npy')\n",
    "labels =np.load('./training/labels.npy')"
   ]
  },
  {
   "cell_type": "code",
   "execution_count": 7,
   "id": "84e6f260-74c5-415d-935a-1ec58f353af7",
   "metadata": {},
   "outputs": [
    {
     "name": "stdout",
     "output_type": "stream",
     "text": [
      "(39209, 30, 30, 3) (39209,)\n"
     ]
    }
   ],
   "source": [
    "print(data.shape, labels.shape)"
   ]
  },
  {
   "cell_type": "code",
   "execution_count": 8,
   "id": "3e8b5ab3-c3b7-477f-a3a5-6046c18214ee",
   "metadata": {},
   "outputs": [],
   "source": [
    "x_train, x_test, y_train, y_test = train_test_split(data, labels, test_size=0.2, random_state = 0)"
   ]
  },
  {
   "cell_type": "code",
   "execution_count": 9,
   "id": "d41c9883-249a-4a08-9871-73eaf012be18",
   "metadata": {},
   "outputs": [
    {
     "name": "stdout",
     "output_type": "stream",
     "text": [
      "(31367, 30, 30, 3) (7842, 30, 30, 3) (31367,) (7842,)\n"
     ]
    }
   ],
   "source": [
    "print(x_train.shape, x_test.shape, y_train.shape, y_test.shape)"
   ]
  },
  {
   "cell_type": "code",
   "execution_count": 10,
   "id": "694ebed8-a814-48b9-ad5c-a938365eef9f",
   "metadata": {},
   "outputs": [],
   "source": [
    "y_train = to_categorical(y_train, 43)\n",
    "y_test = to_categorical(y_test, 43)"
   ]
  },
  {
   "cell_type": "code",
   "execution_count": 11,
   "id": "9d5af31a-584c-4f18-9ef7-84c53f698774",
   "metadata": {},
   "outputs": [],
   "source": [
    "model = Sequential()\n",
    "model.add(Input(shape=x_train.shape[1:]))\n",
    "model.add(Conv2D(filters=32, kernel_size=(5,5), activation='relu'))\n",
    "model.add(Conv2D(filters=32, kernel_size=(5,5), activation='relu'))\n",
    "model.add(MaxPool2D(pool_size=(2,2)))\n",
    "model.add(Dropout(rate=0.25))\n",
    "model.add(Conv2D(filters=64, kernel_size=(3,3), activation='relu'))\n",
    "model.add(Conv2D(filters=64, kernel_size=(3,3), activation='relu'))\n",
    "model.add(MaxPool2D(pool_size=(2,2)))\n",
    "model.add(Dropout(rate=0.25))\n",
    "model.add(Flatten())\n",
    "model.add(Dense(256, activation='relu'))\n",
    "model.add(Dropout(rate=0.5))\n",
    "model.add(Dense(43, activation='softmax'))\n",
    "\n",
    "                 "
   ]
  },
  {
   "cell_type": "code",
   "execution_count": 12,
   "id": "2b36f264-2c9a-485e-8fa5-5224bbd6dc9a",
   "metadata": {},
   "outputs": [],
   "source": [
    "model.compile(loss='categorical_crossentropy', optimizer='adam', metrics=['accuracy'])"
   ]
  },
  {
   "cell_type": "code",
   "execution_count": 13,
   "id": "7cf17952-d8c3-4519-8df9-6b20fa25d387",
   "metadata": {},
   "outputs": [
    {
     "name": "stdout",
     "output_type": "stream",
     "text": [
      "Epoch 1/25\n",
      "\u001b[1m981/981\u001b[0m \u001b[32m━━━━━━━━━━━━━━━━━━━━\u001b[0m\u001b[37m\u001b[0m \u001b[1m20s\u001b[0m 19ms/step - accuracy: 0.2818 - loss: 3.6815 - val_accuracy: 0.8312 - val_loss: 0.6372\n",
      "Epoch 2/25\n",
      "\u001b[1m981/981\u001b[0m \u001b[32m━━━━━━━━━━━━━━━━━━━━\u001b[0m\u001b[37m\u001b[0m \u001b[1m18s\u001b[0m 18ms/step - accuracy: 0.7030 - loss: 0.9915 - val_accuracy: 0.9061 - val_loss: 0.3655\n",
      "Epoch 3/25\n",
      "\u001b[1m981/981\u001b[0m \u001b[32m━━━━━━━━━━━━━━━━━━━━\u001b[0m\u001b[37m\u001b[0m \u001b[1m20s\u001b[0m 21ms/step - accuracy: 0.7872 - loss: 0.6914 - val_accuracy: 0.9110 - val_loss: 0.3124\n",
      "Epoch 4/25\n",
      "\u001b[1m981/981\u001b[0m \u001b[32m━━━━━━━━━━━━━━━━━━━━\u001b[0m\u001b[37m\u001b[0m \u001b[1m20s\u001b[0m 21ms/step - accuracy: 0.8185 - loss: 0.5917 - val_accuracy: 0.9258 - val_loss: 0.2466\n",
      "Epoch 5/25\n",
      "\u001b[1m981/981\u001b[0m \u001b[32m━━━━━━━━━━━━━━━━━━━━\u001b[0m\u001b[37m\u001b[0m \u001b[1m19s\u001b[0m 20ms/step - accuracy: 0.8364 - loss: 0.5370 - val_accuracy: 0.9444 - val_loss: 0.2054\n",
      "Epoch 6/25\n",
      "\u001b[1m981/981\u001b[0m \u001b[32m━━━━━━━━━━━━━━━━━━━━\u001b[0m\u001b[37m\u001b[0m \u001b[1m20s\u001b[0m 20ms/step - accuracy: 0.8664 - loss: 0.4472 - val_accuracy: 0.9472 - val_loss: 0.1996\n",
      "Epoch 7/25\n",
      "\u001b[1m981/981\u001b[0m \u001b[32m━━━━━━━━━━━━━━━━━━━━\u001b[0m\u001b[37m\u001b[0m \u001b[1m19s\u001b[0m 20ms/step - accuracy: 0.8706 - loss: 0.4307 - val_accuracy: 0.9603 - val_loss: 0.1529\n",
      "Epoch 8/25\n",
      "\u001b[1m981/981\u001b[0m \u001b[32m━━━━━━━━━━━━━━━━━━━━\u001b[0m\u001b[37m\u001b[0m \u001b[1m24s\u001b[0m 25ms/step - accuracy: 0.8871 - loss: 0.3698 - val_accuracy: 0.9605 - val_loss: 0.1421\n",
      "Epoch 9/25\n",
      "\u001b[1m981/981\u001b[0m \u001b[32m━━━━━━━━━━━━━━━━━━━━\u001b[0m\u001b[37m\u001b[0m \u001b[1m19s\u001b[0m 20ms/step - accuracy: 0.8907 - loss: 0.3803 - val_accuracy: 0.9603 - val_loss: 0.1445\n",
      "Epoch 10/25\n",
      "\u001b[1m981/981\u001b[0m \u001b[32m━━━━━━━━━━━━━━━━━━━━\u001b[0m\u001b[37m\u001b[0m \u001b[1m19s\u001b[0m 19ms/step - accuracy: 0.8947 - loss: 0.3535 - val_accuracy: 0.9651 - val_loss: 0.1202\n",
      "Epoch 11/25\n",
      "\u001b[1m981/981\u001b[0m \u001b[32m━━━━━━━━━━━━━━━━━━━━\u001b[0m\u001b[37m\u001b[0m \u001b[1m19s\u001b[0m 19ms/step - accuracy: 0.9120 - loss: 0.2946 - val_accuracy: 0.9686 - val_loss: 0.1069\n",
      "Epoch 12/25\n",
      "\u001b[1m981/981\u001b[0m \u001b[32m━━━━━━━━━━━━━━━━━━━━\u001b[0m\u001b[37m\u001b[0m \u001b[1m19s\u001b[0m 19ms/step - accuracy: 0.9157 - loss: 0.2846 - val_accuracy: 0.9758 - val_loss: 0.0935\n",
      "Epoch 13/25\n",
      "\u001b[1m981/981\u001b[0m \u001b[32m━━━━━━━━━━━━━━━━━━━━\u001b[0m\u001b[37m\u001b[0m \u001b[1m19s\u001b[0m 19ms/step - accuracy: 0.9127 - loss: 0.2885 - val_accuracy: 0.9682 - val_loss: 0.1075\n",
      "Epoch 14/25\n",
      "\u001b[1m981/981\u001b[0m \u001b[32m━━━━━━━━━━━━━━━━━━━━\u001b[0m\u001b[37m\u001b[0m \u001b[1m19s\u001b[0m 19ms/step - accuracy: 0.9183 - loss: 0.2862 - val_accuracy: 0.9705 - val_loss: 0.0960\n",
      "Epoch 15/25\n",
      "\u001b[1m981/981\u001b[0m \u001b[32m━━━━━━━━━━━━━━━━━━━━\u001b[0m\u001b[37m\u001b[0m \u001b[1m19s\u001b[0m 19ms/step - accuracy: 0.9257 - loss: 0.2558 - val_accuracy: 0.9735 - val_loss: 0.0916\n",
      "Epoch 16/25\n",
      "\u001b[1m981/981\u001b[0m \u001b[32m━━━━━━━━━━━━━━━━━━━━\u001b[0m\u001b[37m\u001b[0m \u001b[1m19s\u001b[0m 19ms/step - accuracy: 0.9214 - loss: 0.2721 - val_accuracy: 0.9773 - val_loss: 0.0824\n",
      "Epoch 17/25\n",
      "\u001b[1m981/981\u001b[0m \u001b[32m━━━━━━━━━━━━━━━━━━━━\u001b[0m\u001b[37m\u001b[0m \u001b[1m19s\u001b[0m 19ms/step - accuracy: 0.9283 - loss: 0.2504 - val_accuracy: 0.9773 - val_loss: 0.0844\n",
      "Epoch 18/25\n",
      "\u001b[1m981/981\u001b[0m \u001b[32m━━━━━━━━━━━━━━━━━━━━\u001b[0m\u001b[37m\u001b[0m \u001b[1m19s\u001b[0m 19ms/step - accuracy: 0.9275 - loss: 0.2687 - val_accuracy: 0.9801 - val_loss: 0.0733\n",
      "Epoch 19/25\n",
      "\u001b[1m981/981\u001b[0m \u001b[32m━━━━━━━━━━━━━━━━━━━━\u001b[0m\u001b[37m\u001b[0m \u001b[1m19s\u001b[0m 19ms/step - accuracy: 0.9261 - loss: 0.2625 - val_accuracy: 0.9832 - val_loss: 0.0643\n",
      "Epoch 20/25\n",
      "\u001b[1m981/981\u001b[0m \u001b[32m━━━━━━━━━━━━━━━━━━━━\u001b[0m\u001b[37m\u001b[0m \u001b[1m19s\u001b[0m 20ms/step - accuracy: 0.9298 - loss: 0.2483 - val_accuracy: 0.9774 - val_loss: 0.0728\n",
      "Epoch 21/25\n",
      "\u001b[1m981/981\u001b[0m \u001b[32m━━━━━━━━━━━━━━━━━━━━\u001b[0m\u001b[37m\u001b[0m \u001b[1m19s\u001b[0m 19ms/step - accuracy: 0.9339 - loss: 0.2384 - val_accuracy: 0.9656 - val_loss: 0.1320\n",
      "Epoch 22/25\n",
      "\u001b[1m981/981\u001b[0m \u001b[32m━━━━━━━━━━━━━━━━━━━━\u001b[0m\u001b[37m\u001b[0m \u001b[1m19s\u001b[0m 20ms/step - accuracy: 0.9294 - loss: 0.2555 - val_accuracy: 0.9744 - val_loss: 0.0833\n",
      "Epoch 23/25\n",
      "\u001b[1m981/981\u001b[0m \u001b[32m━━━━━━━━━━━━━━━━━━━━\u001b[0m\u001b[37m\u001b[0m \u001b[1m20s\u001b[0m 20ms/step - accuracy: 0.9343 - loss: 0.2330 - val_accuracy: 0.9793 - val_loss: 0.0749\n",
      "Epoch 24/25\n",
      "\u001b[1m981/981\u001b[0m \u001b[32m━━━━━━━━━━━━━━━━━━━━\u001b[0m\u001b[37m\u001b[0m \u001b[1m20s\u001b[0m 20ms/step - accuracy: 0.9188 - loss: 0.2982 - val_accuracy: 0.9813 - val_loss: 0.0727\n",
      "Epoch 25/25\n",
      "\u001b[1m981/981\u001b[0m \u001b[32m━━━━━━━━━━━━━━━━━━━━\u001b[0m\u001b[37m\u001b[0m \u001b[1m19s\u001b[0m 20ms/step - accuracy: 0.9331 - loss: 0.2362 - val_accuracy: 0.9829 - val_loss: 0.0672\n"
     ]
    }
   ],
   "source": [
    "epochs=25\n",
    "history= model.fit(x_train, y_train, batch_size=32, epochs=epochs, validation_data=(x_test,y_test))"
   ]
  },
  {
   "cell_type": "code",
   "execution_count": 14,
   "id": "11def710-8512-4c5d-b0c6-9c38d8bc222f",
   "metadata": {},
   "outputs": [
    {
     "data": {
      "image/png": "[encoded data removed]",
      "text/plain": [
       "<Figure size 640x480 with 1 Axes>"
      ]
     },
     "metadata": {},
     "output_type": "display_data"
    }
   ],
   "source": [
    "plt.plot(history.history['accuracy'], label='training accuracy')\n",
    "plt.plot(history.history['val_accuracy'], label='val accuracy')\n",
    "plt.title('Accuracy')\n",
    "plt.xlabel('epochs')\n",
    "plt.ylabel('accuracy')\n",
    "plt.legend()\n",
    "plt.show()"
   ]
  },
  {
   "cell_type": "code",
   "execution_count": 15,
   "id": "2ef8590a-5365-4e72-b03e-876de75bc4f6",
   "metadata": {},
   "outputs": [
    {
     "data": {
      "image/png": "[encoded data removed]",
      "text/plain": [
       "<Figure size 640x480 with 1 Axes>"
      ]
     },
     "metadata": {},
     "output_type": "display_data"
    }
   ],
   "source": [
    "plt.plot(history.history['loss'], label='training loss')\n",
    "plt.plot(history.history['val_loss'], label='val loss')\n",
    "plt.title('Loss')\n",
    "plt.xlabel('epochs')\n",
    "plt.ylabel('loss')\n",
    "plt.legend()\n",
    "plt.show()"
   ]
  },
  {
   "cell_type": "code",
   "execution_count": 16,
   "id": "88b3d651-c9bf-42ac-a530-f08514984c84",
   "metadata": {},
   "outputs": [],
   "source": [
    "def testing(testcsv):\n",
    "    y_test = pd.read_csv(testcsv)\n",
    "    label = y_test[\"ClassId\"].values\n",
    "    imgs = y_test[\"Path\"].values\n",
    "    data=[]\n",
    "    for img in imgs:\n",
    "        image = Image.open(img)\n",
    "        image = image.resize((30,30))\n",
    "        data.append(np.array(image))\n",
    "    X_test=np.array(data)\n",
    "    return X_test,label"
   ]
  },
  {
   "cell_type": "code",
   "execution_count": 17,
   "id": "53eaaea8-60bf-4d64-b78c-8ca8ca15ed12",
   "metadata": {},
   "outputs": [],
   "source": [
    "x_test, label = testing('Test.csv')"
   ]
  },
  {
   "cell_type": "code",
   "execution_count": 18,
   "id": "36a101ec-9dd5-4569-b9c3-57813cc71e03",
   "metadata": {},
   "outputs": [
    {
     "name": "stdout",
     "output_type": "stream",
     "text": [
      "\u001b[1m395/395\u001b[0m \u001b[32m━━━━━━━━━━━━━━━━━━━━\u001b[0m\u001b[37m\u001b[0m \u001b[1m3s\u001b[0m 6ms/step\n"
     ]
    },
    {
     "data": {
      "text/plain": [
       "array([[6.2470797e-25, 2.3874026e-13, 3.6556410e-17, ..., 9.7801389e-15,\n",
       "        3.5391046e-12, 3.1835887e-22],\n",
       "       [1.6447498e-08, 9.9997461e-01, 1.3815250e-08, ..., 2.2045427e-17,\n",
       "        1.9792230e-34, 2.1871225e-22],\n",
       "       [8.9938979e-27, 4.4002676e-25, 5.7409328e-26, ..., 1.8668518e-28,\n",
       "        0.0000000e+00, 0.0000000e+00],\n",
       "       ...,\n",
       "       [1.9665934e-04, 7.4328579e-02, 3.3348627e-02, ..., 6.8285635e-06,\n",
       "        2.3094399e-04, 4.1235979e-03],\n",
       "       [3.7947551e-10, 1.2634496e-06, 1.8469962e-06, ..., 3.1432468e-09,\n",
       "        1.7689524e-20, 8.4301549e-13],\n",
       "       [1.3308911e-10, 5.8167487e-08, 4.5090706e-05, ..., 4.0120693e-10,\n",
       "        2.5094172e-16, 4.3730612e-08]], dtype=float32)"
      ]
     },
     "execution_count": 18,
     "metadata": {},
     "output_type": "execute_result"
    }
   ],
   "source": [
    "Y_pred = model.predict(x_test)\n",
    "Y_pred"
   ]
  },
  {
   "cell_type": "code",
   "execution_count": 19,
   "id": "57179933-aeae-45c1-b542-7ea73909cbdc",
   "metadata": {},
   "outputs": [
    {
     "name": "stdout",
     "output_type": "stream",
     "text": [
      "Shape of label: (12630,)\n",
      "Shape of Y_pred: (12630, 43)\n"
     ]
    }
   ],
   "source": [
    "print(\"Shape of label:\", label.shape)\n",
    "print(\"Shape of Y_pred:\", Y_pred.shape)"
   ]
  },
  {
   "cell_type": "code",
   "execution_count": 20,
   "id": "93a78f29-b2a8-4ffe-ad02-d66540656192",
   "metadata": {},
   "outputs": [],
   "source": [
    "model.save(\"./training/TrafficSignRecognitionBroken2!.keras\")"
   ]
  },
  {
   "cell_type": "code",
   "execution_count": 21,
   "id": "5efdd51a-6a70-4660-9abb-90e0b34eb9d8",
   "metadata": {},
   "outputs": [],
   "source": [
    "import tk\n",
    "import random\n",
    "import threading\n",
    "import webbrowser\n",
    "from PIL import Image\n",
    "from flask import Flask, render_template_string"
   ]
  },
  {
   "cell_type": "code",
   "execution_count": 22,
   "id": "cd24e112-6335-4ec0-bf3f-cd32b2faf624",
   "metadata": {},
   "outputs": [
    {
     "name": "stdout",
     "output_type": "stream",
     "text": [
      "Tkinter is available.\n"
     ]
    }
   ],
   "source": [
    "try:\n",
    "    import PIL\n",
    "    tkinter_available = True\n",
    "except ImportError:\n",
    "    tkinter_available = False\n",
    "\n",
    "if tkinter_available:\n",
    "    print(\"Tkinter is available.\")\n",
    "else:\n",
    "    print(\"Tkinter is not available.\")"
   ]
  },
  {
   "cell_type": "code",
   "execution_count": 23,
   "id": "e8da4336-19ec-485b-8bb8-93f5e8de6314",
   "metadata": {},
   "outputs": [],
   "source": [
    "import os\n",
    "os.chdir(r'C:\\\\Users\\\\Lenovo\\\\Downloads\\\\archive')\n",
    "from keras.models import load_model\n",
    "model = load_model('./training/TrafficSignRecognitionBroken.keras')"
   ]
  },
  {
   "cell_type": "code",
   "execution_count": 24,
   "id": "ad04e2c4-7125-4f91-9b9f-9909315eaf47",
   "metadata": {},
   "outputs": [],
   "source": [
    "classes = { \n",
    "    0: 'Ограничение на скоростта (20km/h)',\n",
    "    1: 'Ограничение на скоростта (30km/h)', \n",
    "    2: 'Ограничение на скоростта (50km/h)', \n",
    "    3: 'Ограничение на скоростта (60km/h)', \n",
    "    4: 'Ограничение на скоростта (70km/h)', \n",
    "    5: 'Ограничение на скоростта (80km/h)', \n",
    "    6: 'Край на ограничението на скоростта (80km/h)', \n",
    "    7: 'Ограничение на скоростта (100km/h)', \n",
    "    8: 'Ограничение на скоростта (120km/h)', \n",
    "    9: 'Забранено изпреварването', \n",
    "    10: 'Забранено изпреварването за МПС над 3.5 тона', \n",
    "    11: 'Предимство на кръстовище', \n",
    "    12: 'Главен път', \n",
    "    13: 'Пропусни движението', \n",
    "    14: 'Стоп', \n",
    "    15: 'Забранен вход за всички видове превозни средства', \n",
    "    16: 'Забранено за МПС над 3.5 тона', \n",
    "    17: 'Забранен вход', \n",
    "    18: 'Общо предупреждение', \n",
    "    19: 'Опасен завой наляво', \n",
    "    20: 'Опасен завой надясно', \n",
    "    21: 'Поредица от опасни завои', \n",
    "    22: 'Неравен път', \n",
    "    23: 'Хлъзгав път', \n",
    "    24: 'Пътят се стеснява отдясно', \n",
    "    25: 'Път в ремонт', \n",
    "    26: 'Светофар', \n",
    "    27: 'Внимание: Пешеходци!', \n",
    "    28: 'Деца на пътя', \n",
    "    29: 'Път за велосипедисти', \n",
    "    30: 'Внимание: лед/сняг', \n",
    "    31: 'Диви животни на пътя', \n",
    "    32: 'Край на ограниченията на скоростта и изпреварването', \n",
    "    33: 'Задължително надясно', \n",
    "    34: 'Завой наляво напред', \n",
    "    35: 'Само направо', \n",
    "    36: 'Само направо или надясно', \n",
    "    37: 'Само направо или наляво', \n",
    "    38: 'Движение вдясно', \n",
    "    39: 'Движение вляво', \n",
    "    40: 'Задължителен кръгово движение', \n",
    "    41: 'Край на забраната за изпреварване', \n",
    "    42: 'Край на забраната за изпреварване за МПС над 3.5 тона' \n",
    "}"
   ]
  },
  {
   "cell_type": "code",
   "execution_count": 25,
   "id": "52ddf156-a2ec-4582-859d-7ff39226623c",
   "metadata": {},
   "outputs": [],
   "source": [
    "from PIL import Image\n",
    "import numpy as np\n",
    "import matplotlib.pyplot as plt\n",
    "def test_on_img(img):\n",
    "    data=[]\n",
    "    image = Image.open(img)\n",
    "    image = image.resize((30,30))\n",
    "    data.append(np.array(image))\n",
    "    X_test=np.array(data)\n",
    "    Y_pred = model.predict(X_test)\n",
    "    return image,Y_pred"
   ]
  },
  {
   "cell_type": "code",
   "execution_count": 26,
   "id": "21d562dc-5d9f-480e-8ddd-fe8c3d545585",
   "metadata": {},
   "outputs": [
    {
     "name": "stdout",
     "output_type": "stream",
     "text": [
      "\u001b[1m1/1\u001b[0m \u001b[32m━━━━━━━━━━━━━━━━━━━━\u001b[0m\u001b[37m\u001b[0m \u001b[1m0s\u001b[0m 74ms/step\n"
     ]
    },
    {
     "data": {
      "image/png": "[encoded data removed]",
      "text/plain": [
       "<Figure size 640x480 with 1 Axes>"
      ]
     },
     "metadata": {},
     "output_type": "display_data"
    }
   ],
   "source": [
    "plot,prediction = test_on_img(r'C:\\Users\\Lenovo\\Downloads\\archive\\Test\\00059.png')\n",
    "plt.imshow(plot)\n",
    "plt.show()"
   ]
  },
  {
   "cell_type": "code",
   "execution_count": 27,
   "id": "9d587473-aa88-48a2-833b-a207fbcf9e97",
   "metadata": {},
   "outputs": [
    {
     "name": "stdout",
     "output_type": "stream",
     "text": [
      "Predicted traffic sign is: Veh > 3.5 tons prohibited\n"
     ]
    }
   ],
   "source": [
    "\n",
    "predicted_class_index = prediction.argmax()\n",
    "\n",
    "\n",
    "predicted_class = classes[predicted_class_index]\n",
    "\n",
    "\n",
    "print(\"Predicted traffic sign is:\", predicted_class)"
   ]
  },
  {
   "cell_type": "code",
   "execution_count": 28,
   "id": "2f8f206b-5c98-45a0-b1b2-d4b124ad1368",
   "metadata": {},
   "outputs": [],
   "source": [
    "import tkinter as tk\n",
    "import random\n",
    "import threading\n",
    "import webbrowser\n",
    "from PIL import Image, ImageTk\n",
    "from flask import Flask, render_template_string\n"
   ]
  },
  {
   "cell_type": "code",
   "execution_count": 29,
   "id": "329c5b12-43bc-46c4-8761-f92be432ae96",
   "metadata": {},
   "outputs": [],
   "source": [
    "import tkinter as tk\n",
    "\n",
    "from tkinter import filedialog\n",
    "\n",
    "\n",
    "def button_click():\n",
    "\n",
    "    file_path = filedialog.askopenfilename(filetypes=[(\"Image files\", \"*.jpg;*.png;*.jpeg\")])\n",
    "    if file_path:\n",
    "        print(\"Selected file:\", file_path)\n",
    "        plot,prediction = test_on_img(file_path)\n",
    "        plt.imshow(plot)\n",
    "        plt.show()\n",
    "        predicted_class_index = prediction.argmax()\n",
    "        predicted_class = classes[predicted_class_index]\n",
    "        print(\"Predicted traffic sign is:\", predicted_class)\n",
    "\n",
    "\n",
    "root = tk.Tk()\n",
    "root.title(\"Centered Button\")\n",
    "\n",
    "\n",
    "root.geometry(\"400x300\")\n",
    "\n",
    "\n",
    "button = tk.Button(root, text=\"Upload Image\", command=button_click)\n",
    "\n",
    "\n",
    "center_x = root.winfo_reqwidth() // 2\n",
    "center_y = root.winfo_reqheight() // 2\n",
    "\n",
    "\n",
    "button.place(relx=0.5, rely=0.5, anchor=\"center\")\n",
    "\n",
    "\n",
    "root.mainloop()\n",
    "\n"
   ]
  },
  {
   "cell_type": "code",
   "execution_count": null,
   "id": "69aa6dbd-9db1-48bb-8069-be66225c1fc4",
   "metadata": {},
   "outputs": [],
   "source": []
  },
  {
   "cell_type": "code",
   "execution_count": null,
   "id": "98d8baf1-79c3-4f35-bdb7-71c69cb11a3b",
   "metadata": {},
   "outputs": [],
   "source": []
  },
  {
   "cell_type": "code",
   "execution_count": null,
   "id": "079bde99-6e9d-4628-93c5-2b08384efd6e",
   "metadata": {},
   "outputs": [],
   "source": []
  }
 ],
 "metadata": {
  "kernelspec": {
   "display_name": "Python 3 (ipykernel)",
   "language": "python",
   "name": "python3"
  },
  "language_info": {
   "codemirror_mode": {
    "name": "ipython",
    "version": 3
   },
   "file_extension": ".py",
   "mimetype": "text/x-python",
   "name": "python",
   "nbconvert_exporter": "python",
   "pygments_lexer": "ipython3",
   "version": "3.12.2"
  }
 },
 "nbformat": 4,
 "nbformat_minor": 5
}
