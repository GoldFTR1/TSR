{
 "cells": [
  {
   "cell_type": "code",
   "execution_count": null,
   "id": "df435156-e7a1-4833-ac63-24ab08a6faa9",
   "metadata": {},
   "outputs": [],
   "source": [
    "import numpy as np\n",
    "import pandas as pd\n",
    "import matplotlib.pyplot as plt\n",
    "import cv2\n",
    "import tensorflow as tf\n",
    "from PIL import Image\n",
    "import os\n",
    "os.chdir('C:\\\\Users\\\\Lenovo\\\\Downloads\\\\archive')\n",
    "from sklearn.model_selection import train_test_split\n",
    "from keras.utils import to_categorical\n",
    "from keras.models import Sequential, load_model\n",
    "from keras.layers import Conv2D, MaxPool2D, Dense, Flatten, Dropout, Input"
   ]
  },
  {
   "cell_type": "code",
   "execution_count": null,
   "id": "2e447cd2-1fa9-46e6-9d9c-885f9d05eb2f",
   "metadata": {},
   "outputs": [],
   "source": [
    "data = []\n",
    "labels = []\n",
    "classes = 43\n",
    "current_path = os.getcwd()"
   ]
  },
  {
   "cell_type": "code",
   "execution_count": null,
   "id": "e25b55ef-8f24-456f-85af-31dae795d7c6",
   "metadata": {},
   "outputs": [],
   "source": [
    " for i in range(classes):\n",
    "    path = os.path.join(current_path,'train', str(i))\n",
    "    images= os.listdir(path)\n",
    "    for a in images:\n",
    "         try:\n",
    "             image= Image.open(path+'\\\\'+ a)\n",
    "             image = image.resize((30,30))\n",
    "             image = np.array(image)\n",
    "             data.append(image)\n",
    "             labels.append(i)\n",
    "         except Expcetion as e:\n",
    "             print(e)\n",
    "     "
   ]
  },
  {
   "cell_type": "code",
   "execution_count": null,
   "id": "52b4bd99-34b2-4159-a1a5-51e0d47de02a",
   "metadata": {},
   "outputs": [],
   "source": [
    "data = np.array(data)\n",
    "labels = np.array(labels)"
   ]
  },
  {
   "cell_type": "code",
   "execution_count": null,
   "id": "ad0109db-4ed1-4ff8-9cd7-f0014d396190",
   "metadata": {},
   "outputs": [],
   "source": [
    "np.save('./training/data',data)\n",
    "np.save('./training/labels', labels)"
   ]
  },
  {
   "cell_type": "code",
   "execution_count": null,
   "id": "f727c52d-8e2a-4e2e-bc9a-9e36743fe42f",
   "metadata": {},
   "outputs": [],
   "source": [
    "data =np.load('./training/data.npy')\n",
    "labels =np.load('./training/labels.npy')"
   ]
  },
  {
   "cell_type": "code",
   "execution_count": null,
   "id": "84e6f260-74c5-415d-935a-1ec58f353af7",
   "metadata": {},
   "outputs": [],
   "source": [
    "print(data.shape, labels.shape)"
   ]
  },
  {
   "cell_type": "code",
   "execution_count": null,
   "id": "3e8b5ab3-c3b7-477f-a3a5-6046c18214ee",
   "metadata": {},
   "outputs": [],
   "source": [
    "x_train, x_test, y_train, y_test = train_test_split(data, labels, test_size=0.2, random_state = 0)"
   ]
  },
  {
   "cell_type": "code",
   "execution_count": null,
   "id": "d41c9883-249a-4a08-9871-73eaf012be18",
   "metadata": {},
   "outputs": [],
   "source": [
    "print(x_train.shape, x_test.shape, y_train.shape, y_test.shape)"
   ]
  },
  {
   "cell_type": "code",
   "execution_count": null,
   "id": "694ebed8-a814-48b9-ad5c-a938365eef9f",
   "metadata": {},
   "outputs": [],
   "source": [
    "y_train = to_categorical(y_train, 43)\n",
    "y_test = to_categorical(y_test, 43)"
   ]
  },
  {
   "cell_type": "code",
   "execution_count": null,
   "id": "9d5af31a-584c-4f18-9ef7-84c53f698774",
   "metadata": {},
   "outputs": [],
   "source": [
    "model = Sequential()\n",
    "model.add(Input(shape=x_train.shape[1:]))\n",
    "model.add(Conv2D(filters=32, kernel_size=(5,5), activation='relu'))\n",
    "model.add(Conv2D(filters=32, kernel_size=(5,5), activation='relu'))\n",
    "model.add(MaxPool2D(pool_size=(2,2)))\n",
    "model.add(Dropout(rate=0.25))\n",
    "model.add(Conv2D(filters=64, kernel_size=(3,3), activation='relu'))\n",
    "model.add(Conv2D(filters=64, kernel_size=(3,3), activation='relu'))\n",
    "model.add(MaxPool2D(pool_size=(2,2)))\n",
    "model.add(Dropout(rate=0.25))\n",
    "model.add(Flatten())\n",
    "model.add(Dense(256, activation='relu'))\n",
    "model.add(Dropout(rate=0.5))\n",
    "model.add(Dense(43, activation='softmax'))\n",
    "\n",
    "                 "
   ]
  },
  {
   "cell_type": "code",
   "execution_count": null,
   "id": "2b36f264-2c9a-485e-8fa5-5224bbd6dc9a",
   "metadata": {},
   "outputs": [],
   "source": [
    "model.compile(loss='categorical_crossentropy', optimizer='adam', metrics=['accuracy'])"
   ]
  },
  {
   "cell_type": "code",
   "execution_count": null,
   "id": "7cf17952-d8c3-4519-8df9-6b20fa25d387",
   "metadata": {},
   "outputs": [],
   "source": [
    "epochs=25\n",
    "history= model.fit(x_train, y_train, batch_size=32, epochs=epochs, validation_data=(x_test,y_test))"
   ]
  },
  {
   "cell_type": "code",
   "execution_count": null,
   "id": "11def710-8512-4c5d-b0c6-9c38d8bc222f",
   "metadata": {},
   "outputs": [],
   "source": [
    "plt.plot(history.history['accuracy'], label='training accuracy')\n",
    "plt.plot(history.history['val_accuracy'], label='val accuracy')\n",
    "plt.title('Accuracy')\n",
    "plt.xlabel('epochs')\n",
    "plt.ylabel('accuracy')\n",
    "plt.legend()\n",
    "plt.show()"
   ]
  },
  {
   "cell_type": "code",
   "execution_count": null,
   "id": "2ef8590a-5365-4e72-b03e-876de75bc4f6",
   "metadata": {},
   "outputs": [],
   "source": [
    "plt.plot(history.history['loss'], label='training loss')\n",
    "plt.plot(history.history['val_loss'], label='val loss')\n",
    "plt.title('Loss')\n",
    "plt.xlabel('epochs')\n",
    "plt.ylabel('loss')\n",
    "plt.legend()\n",
    "plt.show()"
   ]
  },
  {
   "cell_type": "code",
   "execution_count": null,
   "id": "88b3d651-c9bf-42ac-a530-f08514984c84",
   "metadata": {},
   "outputs": [],
   "source": [
    "def testing(testcsv):\n",
    "    y_test = pd.read_csv(testcsv)\n",
    "    label = y_test[\"ClassId\"].values\n",
    "    imgs = y_test[\"Path\"].values\n",
    "    data=[]\n",
    "    for img in imgs:\n",
    "        image = Image.open(img)\n",
    "        image = image.resize((30,30))\n",
    "        data.append(np.array(image))\n",
    "    X_test=np.array(data)\n",
    "    return X_test,label"
   ]
  },
  {
   "cell_type": "code",
   "execution_count": null,
   "id": "53eaaea8-60bf-4d64-b78c-8ca8ca15ed12",
   "metadata": {},
   "outputs": [],
   "source": [
    "x_test, label = testing('Test.csv')"
   ]
  },
  {
   "cell_type": "code",
   "execution_count": null,
   "id": "36a101ec-9dd5-4569-b9c3-57813cc71e03",
   "metadata": {},
   "outputs": [],
   "source": [
    "Y_pred = model.predict(x_test)\n",
    "Y_pred"
   ]
  },
  {
   "cell_type": "code",
   "execution_count": null,
   "id": "57179933-aeae-45c1-b542-7ea73909cbdc",
   "metadata": {},
   "outputs": [],
   "source": [
    "print(\"Shape of label:\", label.shape)\n",
    "print(\"Shape of Y_pred:\", Y_pred.shape)"
   ]
  },
  {
   "cell_type": "code",
   "execution_count": null,
   "id": "93a78f29-b2a8-4ffe-ad02-d66540656192",
   "metadata": {},
   "outputs": [],
   "source": [
    "model.save(\"./training/TrafficSignRecognitionBroken!.keras\")"
   ]
  },
  {
   "cell_type": "code",
   "execution_count": null,
   "id": "5efdd51a-6a70-4660-9abb-90e0b34eb9d8",
   "metadata": {},
   "outputs": [],
   "source": [
    "import tk\n",
    "import random\n",
    "import threading\n",
    "import webbrowser\n",
    "from PIL import Image\n",
    "from flask import Flask, render_template_string"
   ]
  },
  {
   "cell_type": "code",
   "execution_count": null,
   "id": "cd24e112-6335-4ec0-bf3f-cd32b2faf624",
   "metadata": {},
   "outputs": [],
   "source": [
    "try:\n",
    "    import PIL\n",
    "    tkinter_available = True\n",
    "except ImportError:\n",
    "    tkinter_available = False\n",
    "\n",
    "if tkinter_available:\n",
    "    print(\"Tkinter is available.\")\n",
    "else:\n",
    "    print(\"Tkinter is not available.\")"
   ]
  },
  {
   "cell_type": "code",
   "execution_count": null,
   "id": "e8da4336-19ec-485b-8bb8-93f5e8de6314",
   "metadata": {},
   "outputs": [],
   "source": [
    "import os\n",
    "os.chdir(r'C:\\\\Users\\\\Lenovo\\\\Downloads\\\\archive')\n",
    "from keras.models import load_model\n",
    "model = load_model('./training/TrafficSignRecognitionBroken.keras')"
   ]
  },
  {
   "cell_type": "code",
   "execution_count": null,
   "id": "ad04e2c4-7125-4f91-9b9f-9909315eaf47",
   "metadata": {},
   "outputs": [],
   "source": [
    "# Classes of trafic signs\n",
    "classes = { 0:'Ограничение!(20km/h)',\n",
    "            1:'Speed limit (30km/h)', \n",
    "            2:'Speed limit (50km/h)', \n",
    "            3:'Speed limit (60km/h)', \n",
    "            4:'Speed limit (70km/h)', \n",
    "            5:'Speed limit (80km/h)', \n",
    "            6:'End of speed limit (80km/h)', \n",
    "            7:'Speed limit (100km/h)', \n",
    "            8:'Speed limit (120km/h)', \n",
    "            9:'No passing', \n",
    "            10:'No passing veh over 3.5 tons', \n",
    "            11:'Right-of-way at intersection', \n",
    "            12:'Priority road', \n",
    "            13:'Yield', \n",
    "            14:'Стоп', \n",
    "            15:'Забранен вход за всички видове превозни средства', \n",
    "            16:'Veh > 3.5 tons prohibited', \n",
    "            17:'No entry', \n",
    "            18:'General caution', \n",
    "            19:'Dangerous curve left', \n",
    "            20:'Dangerous curve right', \n",
    "            21:'Поредица опасни завои', \n",
    "            22:'Bumpy road', \n",
    "            23:'Slippery road', \n",
    "            24:'Road narrows on the right', \n",
    "            25:'Път в ремонт', \n",
    "            26:'Traffic signals', \n",
    "            27:'Внимание: Пешеходци!', \n",
    "            28:'Children crossing', \n",
    "            29:'Bicycles crossing', \n",
    "            30:'Beware of ice/snow',\n",
    "            31:'Wild animals crossing', \n",
    "            32:'End speed + passing limits', \n",
    "            33:'Посока на движение: Задължително надясно', \n",
    "            34:'Turn left ahead', \n",
    "            35:'Посока на Движение: Само направо', \n",
    "            36:'Go straight or right', \n",
    "            37:'Go straight or left', \n",
    "            38:'Keep right', \n",
    "            39:'Keep left', \n",
    "            40:'Roundabout mandatory', \n",
    "            41:'End of no passing', \n",
    "            42:'End no passing veh > 3.5 tons' }"
   ]
  },
  {
   "cell_type": "code",
   "execution_count": null,
   "id": "52ddf156-a2ec-4582-859d-7ff39226623c",
   "metadata": {},
   "outputs": [],
   "source": [
    "from PIL import Image\n",
    "import numpy as np\n",
    "import matplotlib.pyplot as plt\n",
    "def test_on_img(img):\n",
    "    data=[]\n",
    "    image = Image.open(img)\n",
    "    image = image.resize((30,30))\n",
    "    data.append(np.array(image))\n",
    "    X_test=np.array(data)\n",
    "    Y_pred = model.predict(X_test)\n",
    "    return image,Y_pred"
   ]
  },
  {
   "cell_type": "code",
   "execution_count": null,
   "id": "21d562dc-5d9f-480e-8ddd-fe8c3d545585",
   "metadata": {},
   "outputs": [],
   "source": [
    "plot,prediction = test_on_img(r'C:\\Users\\Lenovo\\Downloads\\archive\\Test\\00059.png')\n",
    "plt.imshow(plot)\n",
    "plt.show()"
   ]
  },
  {
   "cell_type": "code",
   "execution_count": null,
   "id": "9d587473-aa88-48a2-833b-a207fbcf9e97",
   "metadata": {},
   "outputs": [],
   "source": [
    "# Find the index of the maximum probability\n",
    "predicted_class_index = prediction.argmax()\n",
    "\n",
    "# Get the class label corresponding to the predicted index\n",
    "predicted_class = classes[predicted_class_index]\n",
    "\n",
    "# Print the predicted class\n",
    "print(\"Predicted traffic sign is:\", predicted_class)"
   ]
  },
  {
   "cell_type": "code",
   "execution_count": null,
   "id": "2f8f206b-5c98-45a0-b1b2-d4b124ad1368",
   "metadata": {},
   "outputs": [],
   "source": [
    "import tkinter as tk\n",
    "import random\n",
    "import threading\n",
    "import webbrowser\n",
    "from PIL import Image, ImageTk\n",
    "from flask import Flask, render_template_string\n"
   ]
  },
  {
   "cell_type": "code",
   "execution_count": null,
   "id": "329c5b12-43bc-46c4-8761-f92be432ae96",
   "metadata": {},
   "outputs": [],
   "source": [
    "import tkinter as tk\n",
    "\n",
    "from tkinter import filedialog\n",
    "\n",
    "# Function to be called when the button is clicked\n",
    "def button_click():\n",
    "    # Open a file dialog window to choose an image file\n",
    "    file_path = filedialog.askopenfilename(filetypes=[(\"Image files\", \"*.jpg;*.png;*.jpeg\")])\n",
    "    if file_path:\n",
    "        print(\"Selected file:\", file_path)\n",
    "        plot,prediction = test_on_img(file_path)\n",
    "        plt.imshow(plot)\n",
    "        plt.show()\n",
    "        predicted_class_index = prediction.argmax()\n",
    "        predicted_class = classes[predicted_class_index]\n",
    "        print(\"Predicted traffic sign is:\", predicted_class)\n",
    "\n",
    "# Create the main application window\n",
    "root = tk.Tk()\n",
    "root.title(\"Centered Button\")\n",
    "\n",
    "# Set the window size\n",
    "root.geometry(\"400x300\")\n",
    "\n",
    "# Create a button widget\n",
    "button = tk.Button(root, text=\"Upload Image\", command=button_click)\n",
    "\n",
    "# Calculate the center coordinates\n",
    "center_x = root.winfo_reqwidth() // 2\n",
    "center_y = root.winfo_reqheight() // 2\n",
    "\n",
    "# Place the button in the center of the window\n",
    "button.place(relx=0.5, rely=0.5, anchor=\"center\")\n",
    "\n",
    "# Start the Tkinter event loop\n",
    "root.mainloop()\n",
    "\n"
   ]
  },
  {
   "cell_type": "code",
   "execution_count": null,
   "id": "69aa6dbd-9db1-48bb-8069-be66225c1fc4",
   "metadata": {},
   "outputs": [],
   "source": []
  },
  {
   "cell_type": "code",
   "execution_count": null,
   "id": "98d8baf1-79c3-4f35-bdb7-71c69cb11a3b",
   "metadata": {},
   "outputs": [],
   "source": []
  },
  {
   "cell_type": "code",
   "execution_count": null,
   "id": "079bde99-6e9d-4628-93c5-2b08384efd6e",
   "metadata": {},
   "outputs": [],
   "source": []
  }
 ],
 "metadata": {
  "kernelspec": {
   "display_name": "Python 3 (ipykernel)",
   "language": "python",
   "name": "python3"
  },
  "language_info": {
   "codemirror_mode": {
    "name": "ipython",
    "version": 3
   },
   "file_extension": ".py",
   "mimetype": "text/x-python",
   "name": "python",
   "nbconvert_exporter": "python",
   "pygments_lexer": "ipython3",
   "version": "3.12.2"
  }
 },
 "nbformat": 4,
 "nbformat_minor": 5
}
